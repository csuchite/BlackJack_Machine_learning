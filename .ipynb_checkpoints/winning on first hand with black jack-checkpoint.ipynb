{
 "cells": [
  {
   "cell_type": "code",
   "execution_count": 3,
   "metadata": {},
   "outputs": [],
   "source": [
    "%matplotlib inline\n",
    "import matplotlib.pyplot as plt\n",
    "import numpy as np\n",
    "import pandas as pd\n",
    "from random import shuffle\n",
    "import math\n",
    "import time\n"
   ]
  },
  {
   "cell_type": "code",
   "execution_count": 19,
   "metadata": {},
   "outputs": [
    {
     "ename": "SyntaxError",
     "evalue": "'return' outside function (<ipython-input-19-48ddb0725e65>, line 8)",
     "output_type": "error",
     "traceback": [
      "\u001b[1;36m  File \u001b[1;32m\"<ipython-input-19-48ddb0725e65>\"\u001b[1;36m, line \u001b[1;32m8\u001b[0m\n\u001b[1;33m    return deck\u001b[0m\n\u001b[1;37m               ^\u001b[0m\n\u001b[1;31mSyntaxError\u001b[0m\u001b[1;31m:\u001b[0m 'return' outside function\n"
     ]
    }
   ],
   "source": [
    "deck = []\n",
    "for suit in [\"Hearts\", \"Diamonds\", \"Spades\", \"Clubs\"]:\n",
    "    for rank in [\"Ace\", \"2\", \"3\", \"4\",\"5\", \"6\", \"7\", \"8\",\"9\", \"10\", \"Jack\",\"Queen\", \"King\"]:\n",
    "        deck.append(suit+rank)\n",
    "        \n",
    "shuffle(deck)\n",
    "\n",
    "return deck"
   ]
  },
  {
   "cell_type": "code",
   "execution_count": 10,
   "metadata": {},
   "outputs": [],
   "source": [
    "def pointCount(my_cards):\n",
    "    my_count =0\n",
    "    ace_count =0\n",
    "    \n",
    "    for i in my_cards:\n",
    "        if(i(1) == 'Jack' or i(1) == \"Queen\" or i(1) == \"King\"):\n",
    "            my_count += 10\n",
    "        elif(i[1] != \"Ace\"):\n",
    "            my_count += int(i[1])\n",
    "        else:\n",
    "            ace_count += 1\n",
    "            \n",
    "    if(ace_count == 1 and my_count >= 10):\n",
    "        my_count += 11\n",
    "    elif(ace_count != 0):\n",
    "        my_count += 1\n",
    "        \n",
    "    return my_count"
   ]
  },
  {
   "cell_type": "code",
   "execution_count": 20,
   "metadata": {},
   "outputs": [],
   "source": [
    "def create_hand(my_deck):\n",
    "    dealer_hand = []\n",
    "    player_hand = []\n",
    "    \n",
    "    player_hand.append(my_deck.pop())\n",
    "    dealer_hand.append(my_deck.pop())\n",
    "    player_hand.append(my_deck.pop())\n",
    "    dealer_hand.append(my_deck.pop())\n",
    "    \n",
    "    while(pointCount(dealer_hand) <=16):\n",
    "        dealer_hand.append(my_deck.pop())\n",
    "    return(dealer_hand, player_hand)"
   ]
  },
  {
   "cell_type": "code",
   "execution_count": null,
   "metadata": {},
   "outputs": [],
   "source": []
  },
  {
   "cell_type": "code",
   "execution_count": null,
   "metadata": {},
   "outputs": [],
   "source": []
  }
 ],
 "metadata": {
  "kernelspec": {
   "display_name": "Python 3",
   "language": "python",
   "name": "python3"
  },
  "language_info": {
   "codemirror_mode": {
    "name": "ipython",
    "version": 3
   },
   "file_extension": ".py",
   "mimetype": "text/x-python",
   "name": "python",
   "nbconvert_exporter": "python",
   "pygments_lexer": "ipython3",
   "version": "3.7.3"
  }
 },
 "nbformat": 4,
 "nbformat_minor": 2
}
