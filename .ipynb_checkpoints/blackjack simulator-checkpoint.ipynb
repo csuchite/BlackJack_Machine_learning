{
 "cells": [
  {
   "cell_type": "code",
   "execution_count": null,
   "metadata": {},
   "outputs": [],
   "source": [
    "%matplotlib inline\n",
    "import matplotlib.pyplot as plt\n",
    "import numpy as np\n",
    "import pandas as pd\n",
    "import random \n",
    "import multiprocessing\n",
    "import math\n",
    "import time\n"
   ]
  },
  {
   "cell_type": "code",
   "execution_count": 1,
   "metadata": {},
   "outputs": [],
   "source": [
    "simulation = 900000\n",
    "num_decks = 4\n",
    "shuffle_percent = 75\n",
    "\n",
    "# Create the loop for multiple decks\n",
    "\n",
    "def simulate(queue, batch_size):\n",
    "    deck = []\n",
    "    \n",
    "    def new_deck():\n",
    "        std_deck = [\n",
    "            # 2 3 4 5 6 7 8 9 10 10 10 10 11\n",
    "            2, 3, 4, 5, 6, 7, 8, 9, 10, 10, 10, 10, 11,\n",
    "            2, 3, 4, 5, 6, 7, 8, 9, 10, 10, 10, 10, 11,\n",
    "            2, 3, 4, 5, 6, 7, 8, 9, 10, 10, 10, 10, 11,\n",
    "            2, 3, 4, 5, 6, 7, 8, 9, 10, 10, 10, 10, 11,\n",
    "        ]\n",
    "        \n",
    "        std_deck = std_deck * num_decks\n",
    "        \n",
    "        random.shuffle(std_deck)\n",
    "        \n",
    "        return std_deck[:]"
   ]
  },
  {
   "cell_type": "code",
   "execution_count": null,
   "metadata": {},
   "outputs": [],
   "source": [
    "    def play_hand():\n",
    "        dealer_cards = []\n",
    "        player_cards = []\n",
    "\n",
    "# The initial cards dealt to player and dealer\n",
    "\n",
    "        player_cards.append(deck.pop(0))\n",
    "        dealer_cards.append(deck.pop(0))\n",
    "        player_cards.append(deck.pop(0))\n",
    "        dealer_cards.append(deck.pop(0))\n",
    "\n",
    "# Dealt cards to players that amount to 12 or higher\n",
    "\n",
    "        while sum(player_cards) < 12:\n",
    "            player_cards.append(deck.pop(0))\n",
    "\n",
    "# The dealer got dealt cards that is soft 17 means: dealer has to get another card\n",
    "\n",
    "        while sum(dealer_cards) < 18:\n",
    "            exit = False\n",
    "            if sum(dealer_cards) == 17:\n",
    "                exit = True"
   ]
  },
  {
   "cell_type": "code",
   "execution_count": null,
   "metadata": {},
   "outputs": [],
   "source": []
  },
  {
   "cell_type": "code",
   "execution_count": null,
   "metadata": {},
   "outputs": [],
   "source": []
  },
  {
   "cell_type": "code",
   "execution_count": null,
   "metadata": {},
   "outputs": [],
   "source": []
  },
  {
   "cell_type": "code",
   "execution_count": null,
   "metadata": {},
   "outputs": [],
   "source": []
  },
  {
   "cell_type": "code",
   "execution_count": null,
   "metadata": {},
   "outputs": [],
   "source": []
  },
  {
   "cell_type": "code",
   "execution_count": null,
   "metadata": {},
   "outputs": [],
   "source": []
  },
  {
   "cell_type": "code",
   "execution_count": null,
   "metadata": {},
   "outputs": [],
   "source": []
  },
  {
   "cell_type": "code",
   "execution_count": null,
   "metadata": {},
   "outputs": [],
   "source": []
  }
 ],
 "metadata": {
  "kernelspec": {
   "display_name": "Python 3",
   "language": "python",
   "name": "python3"
  },
  "language_info": {
   "codemirror_mode": {
    "name": "ipython",
    "version": 3
   },
   "file_extension": ".py",
   "mimetype": "text/x-python",
   "name": "python",
   "nbconvert_exporter": "python",
   "pygments_lexer": "ipython3",
   "version": "3.7.3"
  }
 },
 "nbformat": 4,
 "nbformat_minor": 2
}
