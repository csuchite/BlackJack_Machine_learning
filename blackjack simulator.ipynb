{
 "cells": [
  {
   "cell_type": "code",
   "execution_count": 97,
   "metadata": {},
   "outputs": [],
   "source": [
    "%matplotlib inline\n",
    "import matplotlib.pyplot as plt\n",
    "import numpy as np\n",
    "import pandas as pd\n",
    "import random \n",
    "import multiprocessing\n",
    "import math\n",
    "import time\n"
   ]
  },
  {
   "cell_type": "code",
   "execution_count": 113,
   "metadata": {},
   "outputs": [],
   "source": [
    "simulations = 10\n",
    "num_decks = 4\n",
    "shuffle_percent = 75\n",
    "\n",
    "# Create the loop for multiple decks\n",
    "\n",
    "def simulate(queue, batch_size):\n",
    "    deck = []\n",
    "    \n",
    "    def new_deck():\n",
    "        std_deck = [\n",
    "            # 2 3 4 5 6 7 8 9 10 10 10 10 11\n",
    "            2, 3, 4, 5, 6, 7, 8, 9, 10, 10, 10, 10, 11,\n",
    "            2, 3, 4, 5, 6, 7, 8, 9, 10, 10, 10, 10, 11,\n",
    "            2, 3, 4, 5, 6, 7, 8, 9, 10, 10, 10, 10, 11,\n",
    "            2, 3, 4, 5, 6, 7, 8, 9, 10, 10, 10, 10, 11,\n",
    "        ]\n",
    "        \n",
    "        std_deck = std_deck * num_decks\n",
    "        \n",
    "        random.shuffle(std_deck)\n",
    "         \n",
    "        return std_deck[:]\n"
   ]
  },
  {
   "cell_type": "code",
   "execution_count": 100,
   "metadata": {},
   "outputs": [],
   "source": [
    " def play_hand():\n",
    "        dealer_cards = []\n",
    "        player_cards = []\n",
    "\n",
    "# The initial cards dealt to player and dealer\n",
    "\n",
    "        player_cards.append(deck.pop(0))\n",
    "        dealer_cards.append(deck.pop(0))\n",
    "        player_cards.append(deck.pop(0))\n",
    "        dealer_cards.append(deck.pop(0))\n",
    "\n",
    "# Dealt cards to players that amount to 12 or higher\n",
    "\n",
    "        while sum(player_cards) < 12:\n",
    "        \n",
    "                player_cards.append(deck.pop(0))\n",
    "\n",
    "# The dealer got dealt cards that is soft 17 means: dealer has to get another card\n",
    "\n",
    "        while sum(dealer_cards) < 18:\n",
    "            exit = False\n",
    "            if sum(dealer_cards) == 17:\n",
    "                exit = True\n",
    "                \n",
    "                for i, card in enumerate(dealer_cards):\n",
    "                    if card == 11:\n",
    "                        exit = False\n",
    "                        dealer_cards[i] = 1\n",
    "                        \n",
    "            if exit:\n",
    "                break\n",
    "                dealer_cards.append(deck.pop(0))\n",
    "\n",
    "#  The sum of the card values for the player and dealer\n",
    "\n",
    "            player_sum = sum(player_cards)\n",
    "            dealer_sum = sum(dealer_cards)\n",
    "\n",
    "# The dealer bust and player wins when the values of the cards are over 21 (dealer bust/loss)\n",
    "\n",
    "            if dealer_sum > 21:\n",
    "                return 1;\n",
    "\n",
    "#  The sum of the dealer cards' value are tied or push with player (dealer tie)\n",
    "\n",
    "            if dealer_sum == player_sum:\n",
    "                return 0;\n",
    "\n",
    "#  The sum of the dealer cards' value are greater that the player (dealer win)\n",
    "\n",
    "            if dealer_sum > player_sum:\n",
    "                return -1;\n",
    "        \n",
    "# The sum of the dealer cards' value are less that the player dealer loss)\n",
    "            if dealer_sum < player_sum:\n",
    "                return 1\n",
    "         "
   ]
  },
  {
   "cell_type": "code",
   "execution_count": 135,
   "metadata": {},
   "outputs": [
    {
     "ename": "IndentationError",
     "evalue": "unexpected indent (<ipython-input-135-876d22fa21e7>, line 2)",
     "output_type": "error",
     "traceback": [
      "\u001b[1;36m  File \u001b[1;32m\"<ipython-input-135-876d22fa21e7>\"\u001b[1;36m, line \u001b[1;32m2\u001b[0m\n\u001b[1;33m    def new_deck():\u001b[0m\n\u001b[1;37m    ^\u001b[0m\n\u001b[1;31mIndentationError\u001b[0m\u001b[1;31m:\u001b[0m unexpected indent\n"
     ]
    }
   ],
   "source": [
    "# Start a new deck\n",
    " def new_deck():\n",
    "        std_deck = [\n",
    "            # 2 3 4 5 6 7 8 9 10 10 10 10 11\n",
    "            2, 3, 4, 5, 6, 7, 8, 9, 10, 10, 10, 10, 11,\n",
    "            2, 3, 4, 5, 6, 7, 8, 9, 10, 10, 10, 10, 11,\n",
    "            2, 3, 4, 5, 6, 7, 8, 9, 10, 10, 10, 10, 11,\n",
    "            2, 3, 4, 5, 6, 7, 8, 9, 10, 10, 10, 10, 11,\n",
    "        ]\n",
    "        \n",
    "        std_deck = std_deck * num_decks\n",
    "        \n",
    "        random.shuffle(std_deck)\n",
    "         \n",
    "        return std_deck[:]\n",
    "    \n",
    "deck = new_deck()\n",
    "\n",
    "cpus = multiprocessing.cpu_count()\n",
    "batch_size = int(math.ceil(simulations / float(cpus)))\n",
    "win = 0\n",
    "tie = 0\n",
    "lose = 0\n",
    "    \n",
    "for i in range(0, batch_size):\n",
    "\n",
    "# Shuffle the cards when the percentage of cards are at 25% or less\n",
    "\n",
    "        if (float(len(deck)) / (52 * num_decks)) * 100 < shuffle_percent:\n",
    "            deck = new_deck()\n",
    "\n",
    "# Play the hand randomly dealt\n",
    "\n",
    "        result = play_hand()\n",
    "\n",
    "# Save the results \n",
    "\n",
    "        if result == 1:\n",
    "            win += 1\n",
    "        if result == 0:\n",
    "            tie += 1\n",
    "        if result == -1:\n",
    "            lose +=1\n",
    "            \n",
    "queue = multiprocessing.Queue()\n",
    "    \n",
    "queue.put([win, tie, lose])\n",
    "    \n",
    "start_time = time.time()\n",
    "\n",
    "processes = []\n",
    "\n"
   ]
  },
  {
   "cell_type": "code",
   "execution_count": 122,
   "metadata": {},
   "outputs": [
    {
     "ename": "NameError",
     "evalue": "name 'start_time' is not defined",
     "output_type": "error",
     "traceback": [
      "\u001b[1;31m---------------------------------------------------------------------------\u001b[0m",
      "\u001b[1;31mNameError\u001b[0m                                 Traceback (most recent call last)",
      "\u001b[1;32m<ipython-input-122-e18df7dfbaa7>\u001b[0m in \u001b[0;36m<module>\u001b[1;34m\u001b[0m\n\u001b[0;32m     10\u001b[0m     \u001b[0mproc\u001b[0m\u001b[1;33m.\u001b[0m\u001b[0mjoin\u001b[0m\u001b[1;33m(\u001b[0m\u001b[1;33m)\u001b[0m\u001b[1;33m\u001b[0m\u001b[1;33m\u001b[0m\u001b[0m\n\u001b[0;32m     11\u001b[0m \u001b[1;33m\u001b[0m\u001b[0m\n\u001b[1;32m---> 12\u001b[1;33m \u001b[0mfinish_time\u001b[0m \u001b[1;33m=\u001b[0m \u001b[0mtime\u001b[0m\u001b[1;33m.\u001b[0m\u001b[0mtime\u001b[0m\u001b[1;33m(\u001b[0m\u001b[1;33m)\u001b[0m \u001b[1;33m-\u001b[0m \u001b[0mstart_time\u001b[0m\u001b[1;33m\u001b[0m\u001b[1;33m\u001b[0m\u001b[0m\n\u001b[0m\u001b[0;32m     13\u001b[0m \u001b[1;33m\u001b[0m\u001b[0m\n\u001b[0;32m     14\u001b[0m \u001b[0mwin\u001b[0m \u001b[1;33m=\u001b[0m \u001b[1;36m0\u001b[0m\u001b[1;33m\u001b[0m\u001b[1;33m\u001b[0m\u001b[0m\n",
      "\u001b[1;31mNameError\u001b[0m: name 'start_time' is not defined"
     ]
    }
   ],
   "source": [
    "    queue = multiprocessing.Queue()\n",
    "    for i in range(0, cpus):\n",
    "        process = multiprocessing.Process(target=simulate, args=(queue, batch_size))\n",
    "        processes.append(process)\n",
    "        process.start()\n",
    "    \n",
    "        processes = []\n",
    "\n",
    "    for proc in processes:\n",
    "        proc.join()\n",
    "    \n",
    "finish_time = time.time() - start_time\n",
    "\n",
    "win = 0\n",
    "tie = 0\n",
    "lose = 0\n",
    "\n",
    "    for i in range(0, cpus):\n",
    "        results = queue.get()\n",
    "        win += results[0]\n",
    "        tie += results[1]\n",
    "        lose += results[2]\n",
    "    \n"
   ]
  },
  {
   "cell_type": "code",
   "execution_count": 103,
   "metadata": {},
   "outputs": [
    {
     "name": "stdout",
     "output_type": "stream",
     "text": [
      "Cores used: 4\n",
      "Total simulations: 10\n"
     ]
    },
    {
     "ename": "NameError",
     "evalue": "name 'finish_time' is not defined",
     "output_type": "error",
     "traceback": [
      "\u001b[1;31m---------------------------------------------------------------------------\u001b[0m",
      "\u001b[1;31mNameError\u001b[0m                                 Traceback (most recent call last)",
      "\u001b[1;32m<ipython-input-103-31fe79213fcd>\u001b[0m in \u001b[0;36m<module>\u001b[1;34m\u001b[0m\n\u001b[0;32m      1\u001b[0m \u001b[0mprint\u001b[0m\u001b[1;33m(\u001b[0m\u001b[1;34mf'Cores used: %d'\u001b[0m \u001b[1;33m%\u001b[0m \u001b[0mcpus\u001b[0m\u001b[1;33m)\u001b[0m\u001b[1;33m\u001b[0m\u001b[1;33m\u001b[0m\u001b[0m\n\u001b[0;32m      2\u001b[0m \u001b[0mprint\u001b[0m\u001b[1;33m(\u001b[0m\u001b[1;34mf'Total simulations: %d'\u001b[0m \u001b[1;33m%\u001b[0m \u001b[0msimulations\u001b[0m\u001b[1;33m)\u001b[0m\u001b[1;33m\u001b[0m\u001b[1;33m\u001b[0m\u001b[0m\n\u001b[1;32m----> 3\u001b[1;33m \u001b[0mprint\u001b[0m\u001b[1;33m(\u001b[0m\u001b[1;34mf'Total simulations / time: %d'\u001b[0m \u001b[1;33m%\u001b[0m \u001b[1;33m(\u001b[0m\u001b[0mfloat\u001b[0m\u001b[1;33m(\u001b[0m\u001b[0msimulations\u001b[0m\u001b[1;33m)\u001b[0m \u001b[1;33m/\u001b[0m \u001b[0mfinish_time\u001b[0m\u001b[1;33m)\u001b[0m\u001b[1;33m)\u001b[0m\u001b[1;33m\u001b[0m\u001b[1;33m\u001b[0m\u001b[0m\n\u001b[0m\u001b[0;32m      4\u001b[0m \u001b[0mprint\u001b[0m\u001b[1;33m(\u001b[0m\u001b[1;34mf'execution time : %.2fs'\u001b[0m \u001b[1;33m%\u001b[0m \u001b[0mfinish_time\u001b[0m\u001b[1;33m)\u001b[0m\u001b[1;33m\u001b[0m\u001b[1;33m\u001b[0m\u001b[0m\n\u001b[0;32m      5\u001b[0m \u001b[0mprint\u001b[0m\u001b[1;33m(\u001b[0m\u001b[1;34mf'Win Percentage: %.2fs%%'\u001b[0m \u001b[1;33m%\u001b[0m \u001b[1;33m(\u001b[0m\u001b[1;33m(\u001b[0m\u001b[0mwin\u001b[0m \u001b[1;33m/\u001b[0m \u001b[0mfloat\u001b[0m\u001b[1;33m(\u001b[0m\u001b[0msimulations\u001b[0m\u001b[1;33m)\u001b[0m\u001b[1;33m)\u001b[0m \u001b[1;33m*\u001b[0m \u001b[1;36m100\u001b[0m\u001b[1;33m)\u001b[0m\u001b[1;33m)\u001b[0m\u001b[1;33m\u001b[0m\u001b[1;33m\u001b[0m\u001b[0m\n",
      "\u001b[1;31mNameError\u001b[0m: name 'finish_time' is not defined"
     ]
    }
   ],
   "source": [
    "print(f'Cores used: %d' % cpus)\n",
    "print(f'Total simulations: %d' % simulations)\n",
    "print(f'Total simulations / time: %d' % (float(simulations) / finish_time))\n",
    "print(f'execution time : %.2fs' % finish_time)\n",
    "print(f'Win Percentage: %.2fs%%' % ((win / float(simulations)) * 100))\n",
    "print(f'Tie Percentage: %.2fs%%' % ((tie / float(simulations)) * 100))\n",
    "print(f'Loss Percentage: %.2fs%%' % ((loss / float(simulations)) * 100))"
   ]
  },
  {
   "cell_type": "code",
   "execution_count": null,
   "metadata": {},
   "outputs": [],
   "source": []
  }
 ],
 "metadata": {
  "kernelspec": {
   "display_name": "Python 3",
   "language": "python",
   "name": "python3"
  },
  "language_info": {
   "codemirror_mode": {
    "name": "ipython",
    "version": 3
   },
   "file_extension": ".py",
   "mimetype": "text/x-python",
   "name": "python",
   "nbconvert_exporter": "python",
   "pygments_lexer": "ipython3",
   "version": "3.7.3"
  }
 },
 "nbformat": 4,
 "nbformat_minor": 2
}
