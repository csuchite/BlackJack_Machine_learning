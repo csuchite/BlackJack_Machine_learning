{
 "cells": [
  {
   "cell_type": "markdown",
   "metadata": {},
   "source": [
    "# BlackJack\n",
    "---"
   ]
  },
  {
   "cell_type": "code",
   "execution_count": 3,
   "metadata": {
    "scrolled": true
   },
   "outputs": [],
   "source": [
    "# Dependencies and Setup\n",
    "import matplotlib.pyplot as plt\n",
    "plt.rcParams[\"figure.figsize\"] = [14, 10]\n",
    "import pandas as pd\n",
    "import numpy as np\n",
    "import requests\n",
    "import time\n",
    "import requests\n",
    "import json\n"
   ]
  },
  {
   "cell_type": "code",
   "execution_count": 11,
   "metadata": {},
   "outputs": [
    {
     "data": {
      "text/html": [
       "<div>\n",
       "<style scoped>\n",
       "    .dataframe tbody tr th:only-of-type {\n",
       "        vertical-align: middle;\n",
       "    }\n",
       "\n",
       "    .dataframe tbody tr th {\n",
       "        vertical-align: top;\n",
       "    }\n",
       "\n",
       "    .dataframe thead th {\n",
       "        text-align: right;\n",
       "    }\n",
       "</style>\n",
       "<table border=\"1\" class=\"dataframe\">\n",
       "  <thead>\n",
       "    <tr style=\"text-align: right;\">\n",
       "      <th></th>\n",
       "      <th>DealTotal</th>\n",
       "      <th>DealerUp</th>\n",
       "      <th>WinLoss</th>\n",
       "    </tr>\n",
       "  </thead>\n",
       "  <tbody>\n",
       "    <tr>\n",
       "      <th>0</th>\n",
       "      <td>17</td>\n",
       "      <td>8</td>\n",
       "      <td>Loss</td>\n",
       "    </tr>\n",
       "    <tr>\n",
       "      <th>1</th>\n",
       "      <td>19</td>\n",
       "      <td>8</td>\n",
       "      <td>Win</td>\n",
       "    </tr>\n",
       "    <tr>\n",
       "      <th>2</th>\n",
       "      <td>17</td>\n",
       "      <td>8</td>\n",
       "      <td>Loss</td>\n",
       "    </tr>\n",
       "    <tr>\n",
       "      <th>3</th>\n",
       "      <td>12</td>\n",
       "      <td>8</td>\n",
       "      <td>Loss</td>\n",
       "    </tr>\n",
       "    <tr>\n",
       "      <th>4</th>\n",
       "      <td>12</td>\n",
       "      <td>8</td>\n",
       "      <td>Loss</td>\n",
       "    </tr>\n",
       "  </tbody>\n",
       "</table>\n",
       "</div>"
      ],
      "text/plain": [
       "   DealTotal  DealerUp WinLoss\n",
       "0         17         8    Loss\n",
       "1         19         8     Win\n",
       "2         17         8    Loss\n",
       "3         12         8    Loss\n",
       "4         12         8    Loss"
      ]
     },
     "execution_count": 11,
     "metadata": {},
     "output_type": "execute_result"
    }
   ],
   "source": [
    "file_to_load = \"/Users/anirbanmukherjee/Desktop/Anaconda/UNC_Project1/Team_Carolina/Project data/blkjckhands.csv\"\n",
    "\n",
    "# Read Purchasing File and store into Pandas data frame\n",
    "BlackJack = pd.read_csv(file_to_load)\n",
    "df=pd.DataFrame(BlackJack)\n",
    "dealup_df=df[[\"ply2cardsum\",\"dealcard2\",\"winloss\"]]\n",
    "dealup_df=dealup_df.rename(columns={\"ply2cardsum\": \"DealTotal\",\n",
    "                                 #\"dealcard1\": \"DealerDwn\",\n",
    "                                 \"dealcard2\": \"DealerUp\",\n",
    "                                 \"winloss\": \"WinLoss\"})\n",
    "\n",
    "dealup_df.head()\n"
   ]
  },
  {
   "cell_type": "code",
   "execution_count": 12,
   "metadata": {},
   "outputs": [
    {
     "name": "stderr",
     "output_type": "stream",
     "text": [
      "/Users/anirbanmukherjee/anaconda3/lib/python3.7/site-packages/pandas/core/indexing.py:1494: FutureWarning: \n",
      "Passing list-likes to .loc or [] with any missing label will raise\n",
      "KeyError in the future, you can use .reindex() as an alternative.\n",
      "\n",
      "See the documentation here:\n",
      "https://pandas.pydata.org/pandas-docs/stable/indexing.html#deprecate-loc-reindex-listlike\n",
      "  return self._getitem_tuple(key)\n"
     ]
    },
    {
     "data": {
      "text/plain": [
       "Loss    47.76%\n",
       "Win     42.88%\n",
       "Push     9.36%\n",
       "Name: Win/Loss Percentage, dtype: object"
      ]
     },
     "execution_count": 12,
     "metadata": {},
     "output_type": "execute_result"
    }
   ],
   "source": [
    "df_count=(df[\"winloss\"].count())\n",
    "WinLoss=df.loc[:, [\"winloss\", \"someofcards\", \"ply2cardsum\"]]\n",
    "WinLoss_count=WinLoss[\"winloss\"].value_counts()\n",
    "WinLoss_percentage=WinLoss_count/df_count * 100\n",
    "WinLoss_percentage.head()\n",
    "\n",
    "WinLoss_df=pd.DataFrame({\"Win/Loss Percentage\": WinLoss_percentage})\n",
    "WinLoss_df=WinLoss_df[\"Win/Loss Percentage\"].map(\"{:,.2f}%\".format)\n",
    "WinLoss_df.head()"
   ]
  },
  {
   "cell_type": "code",
   "execution_count": 13,
   "metadata": {},
   "outputs": [
    {
     "data": {
      "image/png": "[encoded data removed]",
      "text/plain": [
       "<Figure size 432x288 with 1 Axes>"
      ]
     },
     "metadata": {
      "needs_background": "light"
     },
     "output_type": "display_data"
    }
   ],
   "source": [
    "outcome=[47.76, 42.88, 9.36]\n",
    "labels=[\"Test\"]\n",
    "x_axis=np.arange(len(outcome))\n",
    "width=.5\n",
    "#index=['LOSS', 'WIN', 'TIE']\n",
    "\n",
    "\n",
    "fig, ax = plt.subplots()\n",
    "bars=ax.bar(x_axis, outcome, color = 'b', alpha=.5, align=\"center\")\n",
    "ax.set_xticks(np.add(x_axis-0.5,width)) # set the position of the x ticks\n",
    "ax.set_xticklabels(('Loss', 'Win', 'Push'))\n",
    "def autolabel(rects):\n",
    "    # attach some text labels\n",
    "    for rect in bars:\n",
    "        height = rect.get_height()\n",
    "        ax.text(rect.get_x() + rect.get_width()/2., 1.05*height,'%0.02f'% float(height),ha='center', va='bottom')\n",
    "autolabel(bars)\n",
    "\n",
    "ax.set_ylim(0,65)\n",
    "ax.set_ylabel('Pct')\n",
    "ax.set_title('Black Jack Outcome Probability')\n",
    "#ax.set_xticks(index + 0.0)\n",
    "ax.set_autoscaley_on(False)\n",
    "\n",
    "ax.grid(True, linewidth = .5, color = 'lightgrey')\n",
    "\n",
    "plt.savefig('BlackJackOutProb.png') \n",
    "\n",
    "plt.show()"
   ]
  },
  {
   "cell_type": "code",
   "execution_count": 14,
   "metadata": {},
   "outputs": [
    {
     "data": {
      "text/plain": [
       "DealTotal     21\n",
       "DealerUp      11\n",
       "WinLoss      Win\n",
       "dtype: object"
      ]
     },
     "execution_count": 14,
     "metadata": {},
     "output_type": "execute_result"
    }
   ],
   "source": [
    "dealup_df.groupby(\"WinLoss\")\n",
    "dealup_df.max()"
   ]
  },
  {
   "cell_type": "code",
   "execution_count": 15,
   "metadata": {},
   "outputs": [
    {
     "data": {
      "text/html": [
       "<div>\n",
       "<style scoped>\n",
       "    .dataframe tbody tr th:only-of-type {\n",
       "        vertical-align: middle;\n",
       "    }\n",
       "\n",
       "    .dataframe tbody tr th {\n",
       "        vertical-align: top;\n",
       "    }\n",
       "\n",
       "    .dataframe thead th {\n",
       "        text-align: right;\n",
       "    }\n",
       "</style>\n",
       "<table border=\"1\" class=\"dataframe\">\n",
       "  <thead>\n",
       "    <tr style=\"text-align: right;\">\n",
       "      <th></th>\n",
       "      <th>Unnamed: 0</th>\n",
       "      <th>player_no</th>\n",
       "      <th>card1</th>\n",
       "      <th>card2</th>\n",
       "      <th>card3</th>\n",
       "      <th>card4</th>\n",
       "      <th>card5</th>\n",
       "      <th>sumofcards</th>\n",
       "      <th>dealcard1</th>\n",
       "      <th>dealcard2</th>\n",
       "      <th>...</th>\n",
       "      <th>dealcard5</th>\n",
       "      <th>sumofdeal</th>\n",
       "      <th>blkjck</th>\n",
       "      <th>winloss</th>\n",
       "      <th>plybustbeat</th>\n",
       "      <th>dlbustbeat</th>\n",
       "      <th>plwinamt</th>\n",
       "      <th>dlwinamt</th>\n",
       "      <th>ply2cardsum</th>\n",
       "      <th>start_hand</th>\n",
       "    </tr>\n",
       "  </thead>\n",
       "  <tbody>\n",
       "    <tr>\n",
       "      <th>0</th>\n",
       "      <td>0</td>\n",
       "      <td>Player1</td>\n",
       "      <td>7</td>\n",
       "      <td>10</td>\n",
       "      <td>0</td>\n",
       "      <td>0</td>\n",
       "      <td>0</td>\n",
       "      <td>17</td>\n",
       "      <td>10</td>\n",
       "      <td>8</td>\n",
       "      <td>...</td>\n",
       "      <td>0</td>\n",
       "      <td>18</td>\n",
       "      <td>nowin</td>\n",
       "      <td>Loss</td>\n",
       "      <td>Beat</td>\n",
       "      <td>Dlwin</td>\n",
       "      <td>0</td>\n",
       "      <td>10</td>\n",
       "      <td>17</td>\n",
       "      <td>17</td>\n",
       "    </tr>\n",
       "    <tr>\n",
       "      <th>1</th>\n",
       "      <td>1</td>\n",
       "      <td>Player2</td>\n",
       "      <td>10</td>\n",
       "      <td>9</td>\n",
       "      <td>0</td>\n",
       "      <td>0</td>\n",
       "      <td>0</td>\n",
       "      <td>19</td>\n",
       "      <td>10</td>\n",
       "      <td>8</td>\n",
       "      <td>...</td>\n",
       "      <td>0</td>\n",
       "      <td>18</td>\n",
       "      <td>nowin</td>\n",
       "      <td>Win</td>\n",
       "      <td>Plwin</td>\n",
       "      <td>Beat</td>\n",
       "      <td>20</td>\n",
       "      <td>0</td>\n",
       "      <td>19</td>\n",
       "      <td>19</td>\n",
       "    </tr>\n",
       "    <tr>\n",
       "      <th>2</th>\n",
       "      <td>2</td>\n",
       "      <td>Player3</td>\n",
       "      <td>9</td>\n",
       "      <td>8</td>\n",
       "      <td>0</td>\n",
       "      <td>0</td>\n",
       "      <td>0</td>\n",
       "      <td>17</td>\n",
       "      <td>10</td>\n",
       "      <td>8</td>\n",
       "      <td>...</td>\n",
       "      <td>0</td>\n",
       "      <td>18</td>\n",
       "      <td>nowin</td>\n",
       "      <td>Loss</td>\n",
       "      <td>Beat</td>\n",
       "      <td>Dlwin</td>\n",
       "      <td>0</td>\n",
       "      <td>10</td>\n",
       "      <td>17</td>\n",
       "      <td>17</td>\n",
       "    </tr>\n",
       "    <tr>\n",
       "      <th>3</th>\n",
       "      <td>3</td>\n",
       "      <td>Player4</td>\n",
       "      <td>2</td>\n",
       "      <td>10</td>\n",
       "      <td>0</td>\n",
       "      <td>5</td>\n",
       "      <td>0</td>\n",
       "      <td>17</td>\n",
       "      <td>10</td>\n",
       "      <td>8</td>\n",
       "      <td>...</td>\n",
       "      <td>0</td>\n",
       "      <td>18</td>\n",
       "      <td>nowin</td>\n",
       "      <td>Loss</td>\n",
       "      <td>Beat</td>\n",
       "      <td>Dlwin</td>\n",
       "      <td>0</td>\n",
       "      <td>10</td>\n",
       "      <td>12</td>\n",
       "      <td>12</td>\n",
       "    </tr>\n",
       "    <tr>\n",
       "      <th>4</th>\n",
       "      <td>4</td>\n",
       "      <td>Player5</td>\n",
       "      <td>10</td>\n",
       "      <td>2</td>\n",
       "      <td>0</td>\n",
       "      <td>5</td>\n",
       "      <td>0</td>\n",
       "      <td>17</td>\n",
       "      <td>10</td>\n",
       "      <td>8</td>\n",
       "      <td>...</td>\n",
       "      <td>0</td>\n",
       "      <td>18</td>\n",
       "      <td>nowin</td>\n",
       "      <td>Loss</td>\n",
       "      <td>Beat</td>\n",
       "      <td>Dlwin</td>\n",
       "      <td>0</td>\n",
       "      <td>10</td>\n",
       "      <td>12</td>\n",
       "      <td>12</td>\n",
       "    </tr>\n",
       "  </tbody>\n",
       "</table>\n",
       "<p>5 rows × 22 columns</p>\n",
       "</div>"
      ],
      "text/plain": [
       "   Unnamed: 0 player_no  card1  card2  card3  card4  card5  sumofcards  \\\n",
       "0           0   Player1      7     10      0      0      0          17   \n",
       "1           1   Player2     10      9      0      0      0          19   \n",
       "2           2   Player3      9      8      0      0      0          17   \n",
       "3           3   Player4      2     10      0      5      0          17   \n",
       "4           4   Player5     10      2      0      5      0          17   \n",
       "\n",
       "   dealcard1  dealcard2  ...  dealcard5  sumofdeal  blkjck  winloss  \\\n",
       "0         10          8  ...          0         18   nowin     Loss   \n",
       "1         10          8  ...          0         18   nowin      Win   \n",
       "2         10          8  ...          0         18   nowin     Loss   \n",
       "3         10          8  ...          0         18   nowin     Loss   \n",
       "4         10          8  ...          0         18   nowin     Loss   \n",
       "\n",
       "  plybustbeat dlbustbeat plwinamt dlwinamt  ply2cardsum  start_hand  \n",
       "0        Beat      Dlwin        0       10           17          17  \n",
       "1       Plwin       Beat       20        0           19          19  \n",
       "2        Beat      Dlwin        0       10           17          17  \n",
       "3        Beat      Dlwin        0       10           12          12  \n",
       "4        Beat      Dlwin        0       10           12          12  \n",
       "\n",
       "[5 rows x 22 columns]"
      ]
     },
     "execution_count": 15,
     "metadata": {},
     "output_type": "execute_result"
    }
   ],
   "source": [
    "#Stats by player\n",
    "df[\"start_hand\"] = df[\"card1\"] + df[\"card2\"]\n",
    "bj_data_ren = df.rename(columns={\"PlayerNo\" : \"player_no\"})\n",
    "bj_data_ren.head()"
   ]
  },
  {
   "cell_type": "code",
   "execution_count": 16,
   "metadata": {},
   "outputs": [
    {
     "data": {
      "text/html": [
       "<div>\n",
       "<style scoped>\n",
       "    .dataframe tbody tr th:only-of-type {\n",
       "        vertical-align: middle;\n",
       "    }\n",
       "\n",
       "    .dataframe tbody tr th {\n",
       "        vertical-align: top;\n",
       "    }\n",
       "\n",
       "    .dataframe thead th {\n",
       "        text-align: right;\n",
       "    }\n",
       "</style>\n",
       "<table border=\"1\" class=\"dataframe\">\n",
       "  <thead>\n",
       "    <tr style=\"text-align: right;\">\n",
       "      <th></th>\n",
       "      <th>start_hand</th>\n",
       "      <th>winloss</th>\n",
       "    </tr>\n",
       "  </thead>\n",
       "  <tbody>\n",
       "    <tr>\n",
       "      <th>0</th>\n",
       "      <td>17</td>\n",
       "      <td>Loss</td>\n",
       "    </tr>\n",
       "    <tr>\n",
       "      <th>1</th>\n",
       "      <td>19</td>\n",
       "      <td>Win</td>\n",
       "    </tr>\n",
       "    <tr>\n",
       "      <th>2</th>\n",
       "      <td>17</td>\n",
       "      <td>Loss</td>\n",
       "    </tr>\n",
       "    <tr>\n",
       "      <th>3</th>\n",
       "      <td>12</td>\n",
       "      <td>Loss</td>\n",
       "    </tr>\n",
       "    <tr>\n",
       "      <th>4</th>\n",
       "      <td>12</td>\n",
       "      <td>Loss</td>\n",
       "    </tr>\n",
       "  </tbody>\n",
       "</table>\n",
       "</div>"
      ],
      "text/plain": [
       "   start_hand winloss\n",
       "0          17    Loss\n",
       "1          19     Win\n",
       "2          17    Loss\n",
       "3          12    Loss\n",
       "4          12    Loss"
      ]
     },
     "execution_count": 16,
     "metadata": {},
     "output_type": "execute_result"
    }
   ],
   "source": [
    "#Organize into Win/Loss frame\n",
    "bj_data_1 = bj_data_ren[[\"start_hand\", \"winloss\"]]\n",
    "bj_data_2 = pd.DataFrame(bj_data_1)\n",
    "\n",
    "bj_data_2.head()"
   ]
  },
  {
   "cell_type": "code",
   "execution_count": null,
   "metadata": {},
   "outputs": [],
   "source": []
  },
  {
   "cell_type": "code",
   "execution_count": 17,
   "metadata": {},
   "outputs": [
    {
     "data": {
      "text/html": [
       "<div>\n",
       "<style scoped>\n",
       "    .dataframe tbody tr th:only-of-type {\n",
       "        vertical-align: middle;\n",
       "    }\n",
       "\n",
       "    .dataframe tbody tr th {\n",
       "        vertical-align: top;\n",
       "    }\n",
       "\n",
       "    .dataframe thead th {\n",
       "        text-align: right;\n",
       "    }\n",
       "</style>\n",
       "<table border=\"1\" class=\"dataframe\">\n",
       "  <thead>\n",
       "    <tr style=\"text-align: right;\">\n",
       "      <th></th>\n",
       "      <th>start_hand</th>\n",
       "      <th>winloss</th>\n",
       "    </tr>\n",
       "  </thead>\n",
       "  <tbody>\n",
       "    <tr>\n",
       "      <th>0</th>\n",
       "      <td>17</td>\n",
       "      <td>Loss</td>\n",
       "    </tr>\n",
       "    <tr>\n",
       "      <th>1</th>\n",
       "      <td>19</td>\n",
       "      <td>Win</td>\n",
       "    </tr>\n",
       "    <tr>\n",
       "      <th>2</th>\n",
       "      <td>17</td>\n",
       "      <td>Loss</td>\n",
       "    </tr>\n",
       "    <tr>\n",
       "      <th>3</th>\n",
       "      <td>12</td>\n",
       "      <td>Loss</td>\n",
       "    </tr>\n",
       "    <tr>\n",
       "      <th>4</th>\n",
       "      <td>12</td>\n",
       "      <td>Loss</td>\n",
       "    </tr>\n",
       "  </tbody>\n",
       "</table>\n",
       "</div>"
      ],
      "text/plain": [
       "   start_hand winloss\n",
       "0          17    Loss\n",
       "1          19     Win\n",
       "2          17    Loss\n",
       "3          12    Loss\n",
       "4          12    Loss"
      ]
     },
     "execution_count": 17,
     "metadata": {},
     "output_type": "execute_result"
    }
   ],
   "source": [
    "#Organize into Win/Loss frame\n",
    "bj_data_1 = bj_data_ren[[\"start_hand\", \"winloss\"]]\n",
    "bj_data_2 = pd.DataFrame(bj_data_1)\n",
    "\n",
    "bj_data_2.head()"
   ]
  },
  {
   "cell_type": "code",
   "execution_count": 18,
   "metadata": {},
   "outputs": [
    {
     "data": {
      "text/html": [
       "<div>\n",
       "<style scoped>\n",
       "    .dataframe tbody tr th:only-of-type {\n",
       "        vertical-align: middle;\n",
       "    }\n",
       "\n",
       "    .dataframe tbody tr th {\n",
       "        vertical-align: top;\n",
       "    }\n",
       "\n",
       "    .dataframe thead th {\n",
       "        text-align: right;\n",
       "    }\n",
       "</style>\n",
       "<table border=\"1\" class=\"dataframe\">\n",
       "  <thead>\n",
       "    <tr style=\"text-align: right;\">\n",
       "      <th></th>\n",
       "      <th>game</th>\n",
       "      <th>win</th>\n",
       "      <th>loss</th>\n",
       "    </tr>\n",
       "  </thead>\n",
       "  <tbody>\n",
       "    <tr>\n",
       "      <th>0</th>\n",
       "      <td>1</td>\n",
       "      <td>0.166667</td>\n",
       "      <td>0.833333</td>\n",
       "    </tr>\n",
       "    <tr>\n",
       "      <th>1</th>\n",
       "      <td>2</td>\n",
       "      <td>1.000000</td>\n",
       "      <td>0.000000</td>\n",
       "    </tr>\n",
       "    <tr>\n",
       "      <th>2</th>\n",
       "      <td>3</td>\n",
       "      <td>1.000000</td>\n",
       "      <td>0.000000</td>\n",
       "    </tr>\n",
       "    <tr>\n",
       "      <th>3</th>\n",
       "      <td>4</td>\n",
       "      <td>0.500000</td>\n",
       "      <td>0.500000</td>\n",
       "    </tr>\n",
       "    <tr>\n",
       "      <th>4</th>\n",
       "      <td>5</td>\n",
       "      <td>0.333333</td>\n",
       "      <td>0.666667</td>\n",
       "    </tr>\n",
       "  </tbody>\n",
       "</table>\n",
       "</div>"
      ],
      "text/plain": [
       "   game       win      loss\n",
       "0     1  0.166667  0.833333\n",
       "1     2  1.000000  0.000000\n",
       "2     3  1.000000  0.000000\n",
       "3     4  0.500000  0.500000\n",
       "4     5  0.333333  0.666667"
      ]
     },
     "execution_count": 18,
     "metadata": {},
     "output_type": "execute_result"
    }
   ],
   "source": [
    "#Calculate percentages\n",
    "# Wins + Pushes vs Losses\n",
    "game = []\n",
    "prob_win = []\n",
    "prob_loss = []\n",
    "x = 0\n",
    "y=0\n",
    "win = 0\n",
    "loss = 0\n",
    "#print (win)\n",
    "for row in bj_data_2.iterrows():\n",
    "#         print(row['winloss'])\n",
    "    if x > 5: \n",
    "        y= y+1\n",
    "        game.append(y)\n",
    "        prob_win.append(win/6)\n",
    "        prob_loss.append(loss/6)\n",
    "        win = 0\n",
    "        loss = 0\n",
    "        x = 0\n",
    "        if row[1]['winloss'] == \"Win\":\n",
    "            win = win+1\n",
    "        elif row[1]['winloss'] == \"Push\":\n",
    "            win = win+1\n",
    "        else:\n",
    "            loss = loss+1\n",
    "        \n",
    "    else:        \n",
    "        if row[1]['winloss'] == \"Win\":\n",
    "            win = win+1\n",
    "        elif row[1]['winloss'] == \"Push\":\n",
    "            win = win+1\n",
    "        else:\n",
    "            loss = loss+1\n",
    "        \n",
    "    x = x+1 \n",
    "#print(game)\n",
    "    \n",
    "lst_games = list(zip(game, prob_win, prob_loss))\n",
    "probability = pd.DataFrame(lst_games, columns = [\"game\",\"win\",\"loss\"])\n",
    "probability.head()"
   ]
  },
  {
   "cell_type": "code",
   "execution_count": 19,
   "metadata": {},
   "outputs": [
    {
     "data": {
      "image/png": "[encoded data removed]",
      "text/plain": [
       "<Figure size 432x288 with 1 Axes>"
      ]
     },
     "metadata": {
      "needs_background": "light"
     },
     "output_type": "display_data"
    }
   ],
   "source": [
    "#plot box graph\n",
    "\n",
    "myfig = plt.figure()\n",
    "plt.title('Probability of NOT Losing')\n",
    "boxplot = probability.boxplot(column = ['win','loss'], showmeans = True)\n",
    "myfig.savefig(\"boxplot.png\")"
   ]
  },
  {
   "cell_type": "code",
   "execution_count": 20,
   "metadata": {},
   "outputs": [
    {
     "data": {
      "text/html": [
       "<div>\n",
       "<style scoped>\n",
       "    .dataframe tbody tr th:only-of-type {\n",
       "        vertical-align: middle;\n",
       "    }\n",
       "\n",
       "    .dataframe tbody tr th {\n",
       "        vertical-align: top;\n",
       "    }\n",
       "\n",
       "    .dataframe thead th {\n",
       "        text-align: right;\n",
       "    }\n",
       "</style>\n",
       "<table border=\"1\" class=\"dataframe\">\n",
       "  <thead>\n",
       "    <tr style=\"text-align: right;\">\n",
       "      <th></th>\n",
       "      <th>player_no</th>\n",
       "      <th>winloss</th>\n",
       "    </tr>\n",
       "  </thead>\n",
       "  <tbody>\n",
       "    <tr>\n",
       "      <th>0</th>\n",
       "      <td>Player1</td>\n",
       "      <td>Loss</td>\n",
       "    </tr>\n",
       "    <tr>\n",
       "      <th>1</th>\n",
       "      <td>Player2</td>\n",
       "      <td>Win</td>\n",
       "    </tr>\n",
       "    <tr>\n",
       "      <th>2</th>\n",
       "      <td>Player3</td>\n",
       "      <td>Loss</td>\n",
       "    </tr>\n",
       "    <tr>\n",
       "      <th>3</th>\n",
       "      <td>Player4</td>\n",
       "      <td>Loss</td>\n",
       "    </tr>\n",
       "    <tr>\n",
       "      <th>4</th>\n",
       "      <td>Player5</td>\n",
       "      <td>Loss</td>\n",
       "    </tr>\n",
       "  </tbody>\n",
       "</table>\n",
       "</div>"
      ],
      "text/plain": [
       "  player_no winloss\n",
       "0   Player1    Loss\n",
       "1   Player2     Win\n",
       "2   Player3    Loss\n",
       "3   Player4    Loss\n",
       "4   Player5    Loss"
      ]
     },
     "execution_count": 20,
     "metadata": {},
     "output_type": "execute_result"
    }
   ],
   "source": [
    "# Plot the player bar graph\n",
    "\n",
    "bj_data_3 = pd.DataFrame(bj_data_ren[[\"player_no\", \"winloss\"]])\n",
    "#bj_data_2 = pd.DataFrame(bj_data_1)\n",
    "\n",
    "bj_data_3.head()"
   ]
  },
  {
   "cell_type": "code",
   "execution_count": 21,
   "metadata": {},
   "outputs": [
    {
     "data": {
      "text/html": [
       "<div>\n",
       "<style scoped>\n",
       "    .dataframe tbody tr th:only-of-type {\n",
       "        vertical-align: middle;\n",
       "    }\n",
       "\n",
       "    .dataframe tbody tr th {\n",
       "        vertical-align: top;\n",
       "    }\n",
       "\n",
       "    .dataframe thead th {\n",
       "        text-align: right;\n",
       "    }\n",
       "</style>\n",
       "<table border=\"1\" class=\"dataframe\">\n",
       "  <thead>\n",
       "    <tr style=\"text-align: right;\">\n",
       "      <th>winloss</th>\n",
       "      <th>Loss</th>\n",
       "      <th>Push</th>\n",
       "      <th>Win</th>\n",
       "    </tr>\n",
       "    <tr>\n",
       "      <th>player_no</th>\n",
       "      <th></th>\n",
       "      <th></th>\n",
       "      <th></th>\n",
       "    </tr>\n",
       "  </thead>\n",
       "  <tbody>\n",
       "    <tr>\n",
       "      <th>Player1</th>\n",
       "      <td>71506</td>\n",
       "      <td>14098</td>\n",
       "      <td>64396</td>\n",
       "    </tr>\n",
       "    <tr>\n",
       "      <th>Player2</th>\n",
       "      <td>71701</td>\n",
       "      <td>13959</td>\n",
       "      <td>64340</td>\n",
       "    </tr>\n",
       "    <tr>\n",
       "      <th>Player3</th>\n",
       "      <td>71869</td>\n",
       "      <td>13826</td>\n",
       "      <td>64305</td>\n",
       "    </tr>\n",
       "    <tr>\n",
       "      <th>Player4</th>\n",
       "      <td>71748</td>\n",
       "      <td>13831</td>\n",
       "      <td>64421</td>\n",
       "    </tr>\n",
       "    <tr>\n",
       "      <th>Player5</th>\n",
       "      <td>71663</td>\n",
       "      <td>14231</td>\n",
       "      <td>64106</td>\n",
       "    </tr>\n",
       "  </tbody>\n",
       "</table>\n",
       "</div>"
      ],
      "text/plain": [
       "winloss     Loss   Push    Win\n",
       "player_no                     \n",
       "Player1    71506  14098  64396\n",
       "Player2    71701  13959  64340\n",
       "Player3    71869  13826  64305\n",
       "Player4    71748  13831  64421\n",
       "Player5    71663  14231  64106"
      ]
     },
     "execution_count": 21,
     "metadata": {},
     "output_type": "execute_result"
    }
   ],
   "source": [
    "player_bar = bj_data_3.pivot_table(index = \"player_no\", columns = \"winloss\", aggfunc='size', fill_value = 0)\n",
    "player_bar.head()"
   ]
  },
  {
   "cell_type": "code",
   "execution_count": 22,
   "metadata": {},
   "outputs": [
    {
     "data": {
      "image/png": "[encoded data removed]",
      "text/plain": [
       "<Figure size 432x288 with 1 Axes>"
      ]
     },
     "metadata": {
      "needs_background": "light"
     },
     "output_type": "display_data"
    }
   ],
   "source": [
    "player_bar.plot.bar()\n",
    "plt.ylim(0, 100000)\n",
    "\n",
    "# plt.xlim(0, 23)\n",
    "plt.legend(loc=\"best\")\n",
    "plt.ylabel(\"No of games\")\n",
    "plt.xlabel(\"Players\")\n",
    "plt.title('Chances of win/loss/push for every player in the game')\n",
    "\n",
    "plt.show()"
   ]
  },
  {
   "cell_type": "code",
   "execution_count": 23,
   "metadata": {},
   "outputs": [],
   "source": [
    "dealup_pvt = pd.pivot_table(dealup_df,index=[\"DealTotal\"]\n",
    "               ,columns=[\"WinLoss\"]\n",
    "               ,values=[\"WinLoss\"]\n",
    "               ,aggfunc=['size']\n",
    "               ,fill_value = 0)"
   ]
  },
  {
   "cell_type": "code",
   "execution_count": 24,
   "metadata": {},
   "outputs": [
    {
     "data": {
      "text/html": [
       "<div>\n",
       "<style scoped>\n",
       "    .dataframe tbody tr th:only-of-type {\n",
       "        vertical-align: middle;\n",
       "    }\n",
       "\n",
       "    .dataframe tbody tr th {\n",
       "        vertical-align: top;\n",
       "    }\n",
       "\n",
       "    .dataframe thead tr th {\n",
       "        text-align: left;\n",
       "    }\n",
       "\n",
       "    .dataframe thead tr:last-of-type th {\n",
       "        text-align: right;\n",
       "    }\n",
       "</style>\n",
       "<table border=\"1\" class=\"dataframe\">\n",
       "  <thead>\n",
       "    <tr>\n",
       "      <th></th>\n",
       "      <th colspan=\"3\" halign=\"left\">size</th>\n",
       "    </tr>\n",
       "    <tr>\n",
       "      <th>WinLoss</th>\n",
       "      <th>Loss</th>\n",
       "      <th>Push</th>\n",
       "      <th>Win</th>\n",
       "    </tr>\n",
       "    <tr>\n",
       "      <th>DealTotal</th>\n",
       "      <th></th>\n",
       "      <th></th>\n",
       "      <th></th>\n",
       "    </tr>\n",
       "  </thead>\n",
       "  <tbody>\n",
       "    <tr>\n",
       "      <th>2</th>\n",
       "      <td>984</td>\n",
       "      <td>91</td>\n",
       "      <td>524</td>\n",
       "    </tr>\n",
       "    <tr>\n",
       "      <th>3</th>\n",
       "      <td>2609</td>\n",
       "      <td>201</td>\n",
       "      <td>1241</td>\n",
       "    </tr>\n",
       "    <tr>\n",
       "      <th>4</th>\n",
       "      <td>6320</td>\n",
       "      <td>521</td>\n",
       "      <td>3336</td>\n",
       "    </tr>\n",
       "    <tr>\n",
       "      <th>5</th>\n",
       "      <td>10350</td>\n",
       "      <td>970</td>\n",
       "      <td>5327</td>\n",
       "    </tr>\n",
       "    <tr>\n",
       "      <th>6</th>\n",
       "      <td>13808</td>\n",
       "      <td>1388</td>\n",
       "      <td>7123</td>\n",
       "    </tr>\n",
       "  </tbody>\n",
       "</table>\n",
       "</div>"
      ],
      "text/plain": [
       "            size            \n",
       "WinLoss     Loss  Push   Win\n",
       "DealTotal                   \n",
       "2            984    91   524\n",
       "3           2609   201  1241\n",
       "4           6320   521  3336\n",
       "5          10350   970  5327\n",
       "6          13808  1388  7123"
      ]
     },
     "execution_count": 24,
     "metadata": {},
     "output_type": "execute_result"
    }
   ],
   "source": [
    "dealup_pvt.head()"
   ]
  },
  {
   "cell_type": "code",
   "execution_count": 25,
   "metadata": {},
   "outputs": [
    {
     "data": {
      "image/png": "[encoded data removed]",
      "text/plain": [
       "<Figure size 432x288 with 1 Axes>"
      ]
     },
     "metadata": {
      "needs_background": "light"
     },
     "output_type": "display_data"
    }
   ],
   "source": [
    "dealup_pvt.plot.line()\n",
    "plt.legend(('Loss','Push','Win'),\n",
    "           loc=\"best\", fontsize=\"small\", fancybox=True)\n",
    "plt.grid(True)\n",
    "plt.title('Outcomes by Deal Total')\n",
    "plt.xlabel('Deal Total')\n",
    "plt.ylabel('Counts')\n",
    "plt.xlim(0, 25)\n",
    "\n",
    "# Save the Figure\n",
    "plt.savefig(\"OCByDealTotal.png\")\n",
    "plt.show()"
   ]
  },
  {
   "cell_type": "code",
   "execution_count": 26,
   "metadata": {},
   "outputs": [],
   "source": [
    "dealup7 = pd.pivot_table(dealup_df[dealup_df.DealerUp == 7]\n",
    "                         , index=[\"DealTotal\"]\n",
    "                         , columns=[\"WinLoss\"]\n",
    "                         , values=[\"WinLoss\"]\n",
    "                         , aggfunc=['size']\n",
    "                         ,fill_value = 0)"
   ]
  },
  {
   "cell_type": "code",
   "execution_count": 27,
   "metadata": {},
   "outputs": [
    {
     "data": {
      "text/html": [
       "<div>\n",
       "<style scoped>\n",
       "    .dataframe tbody tr th:only-of-type {\n",
       "        vertical-align: middle;\n",
       "    }\n",
       "\n",
       "    .dataframe tbody tr th {\n",
       "        vertical-align: top;\n",
       "    }\n",
       "\n",
       "    .dataframe thead tr th {\n",
       "        text-align: left;\n",
       "    }\n",
       "\n",
       "    .dataframe thead tr:last-of-type th {\n",
       "        text-align: right;\n",
       "    }\n",
       "</style>\n",
       "<table border=\"1\" class=\"dataframe\">\n",
       "  <thead>\n",
       "    <tr>\n",
       "      <th></th>\n",
       "      <th colspan=\"3\" halign=\"left\">size</th>\n",
       "    </tr>\n",
       "    <tr>\n",
       "      <th>WinLoss</th>\n",
       "      <th>Loss</th>\n",
       "      <th>Push</th>\n",
       "      <th>Win</th>\n",
       "    </tr>\n",
       "    <tr>\n",
       "      <th>DealTotal</th>\n",
       "      <th></th>\n",
       "      <th></th>\n",
       "      <th></th>\n",
       "    </tr>\n",
       "  </thead>\n",
       "  <tbody>\n",
       "    <tr>\n",
       "      <th>2</th>\n",
       "      <td>80</td>\n",
       "      <td>7</td>\n",
       "      <td>46</td>\n",
       "    </tr>\n",
       "    <tr>\n",
       "      <th>3</th>\n",
       "      <td>199</td>\n",
       "      <td>10</td>\n",
       "      <td>109</td>\n",
       "    </tr>\n",
       "    <tr>\n",
       "      <th>4</th>\n",
       "      <td>450</td>\n",
       "      <td>33</td>\n",
       "      <td>294</td>\n",
       "    </tr>\n",
       "    <tr>\n",
       "      <th>5</th>\n",
       "      <td>717</td>\n",
       "      <td>79</td>\n",
       "      <td>478</td>\n",
       "    </tr>\n",
       "    <tr>\n",
       "      <th>6</th>\n",
       "      <td>974</td>\n",
       "      <td>113</td>\n",
       "      <td>617</td>\n",
       "    </tr>\n",
       "  </tbody>\n",
       "</table>\n",
       "</div>"
      ],
      "text/plain": [
       "          size          \n",
       "WinLoss   Loss Push  Win\n",
       "DealTotal               \n",
       "2           80    7   46\n",
       "3          199   10  109\n",
       "4          450   33  294\n",
       "5          717   79  478\n",
       "6          974  113  617"
      ]
     },
     "execution_count": 27,
     "metadata": {},
     "output_type": "execute_result"
    }
   ],
   "source": [
    "dealup7.head()"
   ]
  },
  {
   "cell_type": "code",
   "execution_count": 28,
   "metadata": {},
   "outputs": [
    {
     "data": {
      "image/png": "[encoded data removed]",
      "text/plain": [
       "<Figure size 432x288 with 1 Axes>"
      ]
     },
     "metadata": {
      "needs_background": "light"
     },
     "output_type": "display_data"
    }
   ],
   "source": [
    "dealup7.plot.line()\n",
    "\n",
    "plt.legend(('Loss','Push','Win'),\n",
    "           loc=\"best\", fontsize=\"small\", fancybox=True)\n",
    "plt.grid(True)\n",
    "plt.title('Outcomes by Deal Total w/ Dealer Showing 7')\n",
    "plt.xlabel('Deal Total')\n",
    "plt.ylabel('Counts')\n",
    "plt.xlim(0, 25)\n",
    "\n",
    "# Save the Figure\n",
    "plt.savefig(\"OCByDT_Dlr7.png\")\n",
    "plt.show()"
   ]
  },
  {
   "cell_type": "code",
   "execution_count": 29,
   "metadata": {},
   "outputs": [],
   "source": [
    "dealup10FC = pd.pivot_table(dealup_df[dealup_df.DealerUp == 10]\n",
    "                         , index=[\"DealTotal\"]\n",
    "                         , columns=[\"WinLoss\"]\n",
    "                         , values=[\"WinLoss\"]\n",
    "                         , aggfunc=['size']\n",
    "                         ,fill_value = 0)"
   ]
  },
  {
   "cell_type": "code",
   "execution_count": 30,
   "metadata": {
    "scrolled": true
   },
   "outputs": [
    {
     "data": {
      "text/html": [
       "<div>\n",
       "<style scoped>\n",
       "    .dataframe tbody tr th:only-of-type {\n",
       "        vertical-align: middle;\n",
       "    }\n",
       "\n",
       "    .dataframe tbody tr th {\n",
       "        vertical-align: top;\n",
       "    }\n",
       "\n",
       "    .dataframe thead tr th {\n",
       "        text-align: left;\n",
       "    }\n",
       "\n",
       "    .dataframe thead tr:last-of-type th {\n",
       "        text-align: right;\n",
       "    }\n",
       "</style>\n",
       "<table border=\"1\" class=\"dataframe\">\n",
       "  <thead>\n",
       "    <tr>\n",
       "      <th></th>\n",
       "      <th colspan=\"3\" halign=\"left\">size</th>\n",
       "    </tr>\n",
       "    <tr>\n",
       "      <th>WinLoss</th>\n",
       "      <th>Loss</th>\n",
       "      <th>Push</th>\n",
       "      <th>Win</th>\n",
       "    </tr>\n",
       "    <tr>\n",
       "      <th>DealTotal</th>\n",
       "      <th></th>\n",
       "      <th></th>\n",
       "      <th></th>\n",
       "    </tr>\n",
       "  </thead>\n",
       "  <tbody>\n",
       "    <tr>\n",
       "      <th>2</th>\n",
       "      <td>307</td>\n",
       "      <td>32</td>\n",
       "      <td>164</td>\n",
       "    </tr>\n",
       "    <tr>\n",
       "      <th>3</th>\n",
       "      <td>758</td>\n",
       "      <td>70</td>\n",
       "      <td>368</td>\n",
       "    </tr>\n",
       "    <tr>\n",
       "      <th>4</th>\n",
       "      <td>1933</td>\n",
       "      <td>183</td>\n",
       "      <td>1054</td>\n",
       "    </tr>\n",
       "    <tr>\n",
       "      <th>5</th>\n",
       "      <td>3145</td>\n",
       "      <td>341</td>\n",
       "      <td>1596</td>\n",
       "    </tr>\n",
       "    <tr>\n",
       "      <th>6</th>\n",
       "      <td>4371</td>\n",
       "      <td>514</td>\n",
       "      <td>2229</td>\n",
       "    </tr>\n",
       "  </tbody>\n",
       "</table>\n",
       "</div>"
      ],
      "text/plain": [
       "           size           \n",
       "WinLoss    Loss Push   Win\n",
       "DealTotal                 \n",
       "2           307   32   164\n",
       "3           758   70   368\n",
       "4          1933  183  1054\n",
       "5          3145  341  1596\n",
       "6          4371  514  2229"
      ]
     },
     "execution_count": 30,
     "metadata": {},
     "output_type": "execute_result"
    }
   ],
   "source": [
    "dealup10FC.head()"
   ]
  },
  {
   "cell_type": "code",
   "execution_count": 31,
   "metadata": {},
   "outputs": [
    {
     "data": {
      "image/png": "[encoded data removed]",
      "text/plain": [
       "<Figure size 432x288 with 1 Axes>"
      ]
     },
     "metadata": {
      "needs_background": "light"
     },
     "output_type": "display_data"
    }
   ],
   "source": [
    "dealup10FC.plot.line()\n",
    "\n",
    "plt.legend(('Loss','Push','Win'),\n",
    "           loc=\"best\", fontsize=\"small\", fancybox=True)\n",
    "plt.grid(True)\n",
    "plt.title('Outcomes by Deal Total w/ Dealer Showing 10 or Face Card')\n",
    "plt.xlabel('Deal Total')\n",
    "plt.ylabel('Counts')\n",
    "plt.xlim(0, 25)\n",
    "\n",
    "# Save the Figure\n",
    "plt.savefig(\"OCByDT_Dlr10FC.png\")\n",
    "plt.show()"
   ]
  },
  {
   "cell_type": "code",
   "execution_count": 32,
   "metadata": {},
   "outputs": [],
   "source": [
    "#df2 = df[(df.a != -1) | (df.b != -1)]\n",
    "\n",
    "dealupAce = pd.pivot_table(dealup_df[(dealup_df.DealerUp == 1) | (dealup_df.DealerUp == 11)]\n",
    "                         , index=[\"DealTotal\"]\n",
    "                         , columns=[\"WinLoss\"]\n",
    "                         , values=[\"WinLoss\"]\n",
    "                         , aggfunc=['size']\n",
    "                         ,fill_value = 0)"
   ]
  },
  {
   "cell_type": "code",
   "execution_count": 33,
   "metadata": {},
   "outputs": [
    {
     "data": {
      "text/html": [
       "<div>\n",
       "<style scoped>\n",
       "    .dataframe tbody tr th:only-of-type {\n",
       "        vertical-align: middle;\n",
       "    }\n",
       "\n",
       "    .dataframe tbody tr th {\n",
       "        vertical-align: top;\n",
       "    }\n",
       "\n",
       "    .dataframe thead tr th {\n",
       "        text-align: left;\n",
       "    }\n",
       "\n",
       "    .dataframe thead tr:last-of-type th {\n",
       "        text-align: right;\n",
       "    }\n",
       "</style>\n",
       "<table border=\"1\" class=\"dataframe\">\n",
       "  <thead>\n",
       "    <tr>\n",
       "      <th></th>\n",
       "      <th colspan=\"3\" halign=\"left\">size</th>\n",
       "    </tr>\n",
       "    <tr>\n",
       "      <th>WinLoss</th>\n",
       "      <th>Loss</th>\n",
       "      <th>Push</th>\n",
       "      <th>Win</th>\n",
       "    </tr>\n",
       "    <tr>\n",
       "      <th>DealTotal</th>\n",
       "      <th></th>\n",
       "      <th></th>\n",
       "      <th></th>\n",
       "    </tr>\n",
       "  </thead>\n",
       "  <tbody>\n",
       "    <tr>\n",
       "      <th>2</th>\n",
       "      <td>93</td>\n",
       "      <td>8</td>\n",
       "      <td>15</td>\n",
       "    </tr>\n",
       "    <tr>\n",
       "      <th>3</th>\n",
       "      <td>231</td>\n",
       "      <td>19</td>\n",
       "      <td>55</td>\n",
       "    </tr>\n",
       "    <tr>\n",
       "      <th>4</th>\n",
       "      <td>556</td>\n",
       "      <td>56</td>\n",
       "      <td>157</td>\n",
       "    </tr>\n",
       "    <tr>\n",
       "      <th>5</th>\n",
       "      <td>953</td>\n",
       "      <td>85</td>\n",
       "      <td>235</td>\n",
       "    </tr>\n",
       "    <tr>\n",
       "      <th>6</th>\n",
       "      <td>1211</td>\n",
       "      <td>115</td>\n",
       "      <td>291</td>\n",
       "    </tr>\n",
       "  </tbody>\n",
       "</table>\n",
       "</div>"
      ],
      "text/plain": [
       "           size          \n",
       "WinLoss    Loss Push  Win\n",
       "DealTotal                \n",
       "2            93    8   15\n",
       "3           231   19   55\n",
       "4           556   56  157\n",
       "5           953   85  235\n",
       "6          1211  115  291"
      ]
     },
     "execution_count": 33,
     "metadata": {},
     "output_type": "execute_result"
    }
   ],
   "source": [
    "dealupAce.head()"
   ]
  },
  {
   "cell_type": "code",
   "execution_count": 34,
   "metadata": {},
   "outputs": [
    {
     "data": {
      "image/png": "[encoded data removed]",
      "text/plain": [
       "<Figure size 432x288 with 1 Axes>"
      ]
     },
     "metadata": {
      "needs_background": "light"
     },
     "output_type": "display_data"
    }
   ],
   "source": [
    "dealupAce.plot.line()\n",
    "#x_axis = [2,3,4,5,6,7,8,9,10,11,12,13,14,16,17,18,19,20,21]\n",
    "\n",
    "plt.legend(('Loss','Push','Win'),\n",
    "           loc=\"best\", fontsize=\"small\", fancybox=True)\n",
    "plt.grid(True)\n",
    "plt.title('Outcomes by Deal Total w/ Dealer Showing Ace')\n",
    "plt.xlabel('Deal Total')\n",
    "plt.ylabel('Counts')\n",
    "#plt.xticks([x_axis])\n",
    "plt.xlim(0, 25)\n",
    "\n",
    "# Save the Figure\n",
    "plt.savefig(\"OCByDT_DlrA.png\")\n",
    "plt.show()"
   ]
  },
  {
   "cell_type": "code",
   "execution_count": null,
   "metadata": {},
   "outputs": [],
   "source": []
  },
  {
   "cell_type": "code",
   "execution_count": null,
   "metadata": {},
   "outputs": [],
   "source": []
  }
 ],
 "metadata": {
  "anaconda-cloud": {},
  "kernel_info": {
   "name": "python3"
  },
  "kernelspec": {
   "display_name": "Python 3",
   "language": "python",
   "name": "python3"
  },
  "language_info": {
   "codemirror_mode": {
    "name": "ipython",
    "version": 3
   },
   "file_extension": ".py",
   "mimetype": "text/x-python",
   "name": "python",
   "nbconvert_exporter": "python",
   "pygments_lexer": "ipython3",
   "version": "3.7.3"
  },
  "nteract": {
   "version": "0.12.3"
  }
 },
 "nbformat": 4,
 "nbformat_minor": 2
}
